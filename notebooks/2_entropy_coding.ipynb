{
 "cells": [
  {
   "cell_type": "code",
   "execution_count": 14,
   "metadata": {},
   "outputs": [],
   "source": [
    "import scipy.stats as st\n",
    "import numpy as np"
   ]
  },
  {
   "cell_type": "markdown",
   "metadata": {},
   "source": [
    "https://courses.fit.cvut.cz/NI-VSM/lectures/files/NI-VSM-Lec-05-Slides.pdf"
   ]
  },
  {
   "cell_type": "markdown",
   "metadata": {},
   "source": [
    "### Entropie $H(X)$\n",
    "\n",
    "$H(X) = −\\sum_{x\\in X} p(x)~\\textrm{log}~p(x)$\n",
    "\n",
    "Jednotky entropie:\n",
    "\n",
    "b = 2 bit\n",
    "\n",
    "b = 10 dit / digit\n",
    "\n",
    "b = e nat\n"
   ]
  },
  {
   "cell_type": "code",
   "execution_count": 20,
   "metadata": {},
   "outputs": [
    {
     "name": "stdout",
     "output_type": "stream",
     "text": [
      "$H(X)$ = 1.75\n"
     ]
    }
   ],
   "source": [
    "from scipy.stats import entropy\n",
    "p_x = [\n",
    "    1/2,1/4,1/8,1/8\n",
    "]\n",
    "print('$H(X)$ =', entropy(p_x, base = 2))"
   ]
  },
  {
   "cell_type": "markdown",
   "metadata": {},
   "source": [
    "### Sdružená entropie $H(X,Y)$\n",
    "\n",
    "$H(X,Y) = −\\sum_{x\\in X}\\sum_{y\\in Y} p(x,y)~\\textrm{log}~p(x,y)$"
   ]
  },
  {
   "cell_type": "code",
   "execution_count": 21,
   "metadata": {},
   "outputs": [
    {
     "name": "stdout",
     "output_type": "stream",
     "text": [
      "$H(X,Y)$ = 2.2499999999999996\n"
     ]
    }
   ],
   "source": [
    "p_xy = [\n",
    "    [1/4,0,1/8,1/8],\n",
    "    [1/4,1/4,0,0]\n",
    "]\n",
    "\n",
    "assert(np.sum(p_xy)==1)\n",
    "print('$H(X,Y)$ =', entropy(np.ravel(p_xy), base = 2))\n"
   ]
  },
  {
   "cell_type": "markdown",
   "metadata": {},
   "source": [
    "### Podmíněná entropie $H(Y|X)$\n",
    "\n",
    "$H(Y|X) = −\\sum_{x\\in X}\\sum_{y\\in Y} p(x,y)~\\textrm{log}~p(y|x)$\n",
    "\n",
    ",kde $p(y|x) = p(x,y)/p(x)$\n",
    "\n",
    "Platí $H(X,Y) = H(X) + H(Y|X)$.\n",
    "\n",
    "Tedy platí $H(Y|X) = H(X,Y) - H(X)$."
   ]
  },
  {
   "cell_type": "code",
   "execution_count": 53,
   "metadata": {},
   "outputs": [
    {
     "name": "stdout",
     "output_type": "stream",
     "text": [
      "H_Y|X = H_XY=2.2499999999999996 - H_X=1.75\n",
      "H_Y|X = 0.49999999999999956\n",
      "H_X|Y = 0.49999999999999956\n"
     ]
    }
   ],
   "source": [
    "p_xy = [\n",
    "    [1/4,0,1/8,1/8],\n",
    "    [1/4,1/4,0,0]\n",
    "]\n",
    "\n",
    "p_x = [\n",
    "    1/2,1/4,1/8,1/8\n",
    "]\n",
    "\n",
    "p_y=[\n",
    "    1/2,1/4,1/8,1/8\n",
    "]\n",
    "\n",
    "assert(np.sum(p_xy)==1)\n",
    "H_XY = entropy(np.ravel(p_xy), base = 2)\n",
    "H_X = entropy(p_x, base = 2)\n",
    "H_Y = entropy(p_y, base = 2)\n",
    "print(f'H_Y|X = {H_XY=} - {H_X=}')\n",
    "print(f'H_Y|X = {H_XY - H_X}')\n",
    "print(f'H_X|Y = {H_XY - H_Y}')\n"
   ]
  },
  {
   "cell_type": "markdown",
   "metadata": {},
   "source": [
    "### Relativní entropie nebo Kullback-Leiblerova vzdálenost\n",
    "\n",
    "$D(p||q)= \\sum_{x\\in X} p(x)~\\textrm{log}~\\frac{p(x)}{q(x)}$"
   ]
  },
  {
   "cell_type": "code",
   "execution_count": 22,
   "metadata": {},
   "outputs": [
    {
     "name": "stdout",
     "output_type": "stream",
     "text": [
      "D(p||q) = 0.0\n"
     ]
    }
   ],
   "source": [
    "p_x = [\n",
    "    1/2,1/2\n",
    "]\n",
    "\n",
    "q_x = [\n",
    "    1/2,1/2\n",
    "]\n",
    "\n",
    "print(f'D(p||q) = {entropy(p_x, q_x, base=2)}')"
   ]
  },
  {
   "cell_type": "markdown",
   "metadata": {},
   "source": [
    "### Vzájemná informace $I(X;Y)$\n",
    "\n",
    "$I(X; Y ) = \\sum_{x\\in X} \\sum{y\\in Y}p(x, y)~\\textrm{log}~\\frac{p(x, y)}{p(x)p(y)}$.\n",
    "\n",
    "\n",
    "\n",
    "\n",
    "$I(X; Y ) = H(X) − H(X|Y )$,\n",
    "\n",
    "$I(X; Y ) = H(Y ) − H(Y |X)$,\n",
    "\n",
    "$I(X; Y ) = H(X) + H(Y ) − H(X, Y )$,\n",
    "\n",
    "$I(X; Y ) = I(Y ; X)$,\n",
    "\n",
    "$I(X; X) = H(X)$.\n"
   ]
  },
  {
   "cell_type": "code",
   "execution_count": 42,
   "metadata": {},
   "outputs": [
    {
     "name": "stdout",
     "output_type": "stream",
     "text": [
      "D(pxy||pxpy) = 0.0\n"
     ]
    }
   ],
   "source": [
    "p_xy = [\n",
    "    [1/4,1/4],\n",
    "    [1/4,1/4]\n",
    "]\n",
    "\n",
    "p_x = [\n",
    "    1/2,1/2\n",
    "]\n",
    "\n",
    "p_y = [\n",
    "    1/2,1/2\n",
    "]\n",
    "\n",
    "p_x_p_y = np.array([p_x]).T @ np.array([p_y])\n",
    "\n",
    "print(f'I(X;Y) = {entropy(np.ravel(p_xy), np.ravel(p_x_p_y), base=2)}')"
   ]
  },
  {
   "cell_type": "code",
   "execution_count": 56,
   "metadata": {},
   "outputs": [
    {
     "name": "stdout",
     "output_type": "stream",
     "text": [
      "[[0.09375 0.65625]\n",
      " [0.03125 0.21875]]\n",
      "H(X) = 0.5435644431995964\n",
      "H(Y) = 0.8112781244591328\n",
      "H(X,Y) = 1.061278124459133\n",
      "H(Y|X) = (H_XY - H_X)=0.5177136812595365\n",
      "H(X|Y) = (H_XY - H_Y)=0.2500000000000001\n",
      "D(p||q) = 1.2583152442102592\n",
      "I(X;Y) = 0.29356444319959635\n",
      "I(X;Y) = (H_X + H_Y - H_XY)=0.2935644431995963\n"
     ]
    }
   ],
   "source": [
    "p_xy = [\n",
    "    [0,3/4],\n",
    "    [1/8,1/8]\n",
    "]\n",
    "\n",
    "p_y = [\n",
    "    3/4,1/4\n",
    "]\n",
    "\n",
    "p_x = [\n",
    "    1/8,7/8\n",
    "]\n",
    "\n",
    "p_x_p_y = np.array([p_y]).T @ np.array([p_x])\n",
    "print(p_x_p_y)\n",
    "H_XY = entropy(np.ravel(p_xy), base = 2)\n",
    "H_X = entropy(p_x, base = 2)\n",
    "H_Y = entropy(p_y, base = 2)\n",
    "print('H(X) =', H_X)\n",
    "print('H(Y) =', H_Y)\n",
    "print('H(X,Y) =', H_XY)\n",
    "print(f'H(Y|X) = {(H_XY - H_X)=}')\n",
    "print(f'H(X|Y) = {(H_XY - H_Y)=}')\n",
    "if len(p_x) == len(p_y):\n",
    "    print(f'D(p||q) = {entropy(p_x, p_y, base=2)}')\n",
    "print(f'I(X;Y) = {entropy(np.ravel(p_xy), np.ravel(p_x_p_y), base=2)}')\n",
    "print(f'I(X;Y) = {(H_X + H_Y - H_XY)=}')"
   ]
  },
  {
   "cell_type": "markdown",
   "metadata": {},
   "source": [
    "https://courses.fit.cvut.cz/NI-VSM/lectures/files/NI-VSM-Lec-06-Slides.pdf"
   ]
  },
  {
   "cell_type": "markdown",
   "metadata": {},
   "source": [
    "#### Hierarchie kódů\n",
    "-> Všechny kódy\n",
    "\n",
    "'--> Nesingulární kódy\n",
    "\n",
    "'---> Unikátně dekódovatelné kódy\n",
    "\n",
    "'----> Instantní kódy\n",
    "\n",
    "------\n",
    "\n",
    "### Střední délka kódu\n",
    "\n",
    "$L(C) = \\sum_{x\\in X} l(x)p(x)$\n",
    "\n",
    ",kde $l(x)$ je délka kódového slova prvku $x$.\n",
    "\n",
    "------\n",
    "\n",
    "Instantní kódy\n",
    "\n",
    "Kódová slova nejsou prefixem žádného jiného kódového slova.\n",
    "\n",
    "------\n",
    "\n",
    "##### Kraftova Nerovnost\n",
    "\n",
    "$\\sum_{i} D^{-l_i} \\leq 1$\n",
    "\n",
    "------\n",
    "\n",
    "Střední délka $ L(C)$ instantního $D$-árního kódu $C$ diskrétní náhodné veličiny $X$ je \n",
    "\n",
    "$L(C) \\geq H_D(X)$.\n",
    "\n",
    "------\n",
    "\n",
    "Uvažujme optimální instantní $D$-ární kód $C^*$ diskrétní náhodné veličiny $X$. Potom platí\n",
    "\n",
    "$H_D(X) \\leq L(C^*) < H_D(X) + 1$.\n",
    "\n",
    "\n"
   ]
  },
  {
   "cell_type": "code",
   "execution_count": 66,
   "metadata": {},
   "outputs": [
    {
     "name": "stdout",
     "output_type": "stream",
     "text": [
      "L=1.75\n",
      "symbol, code\n",
      "11 111\n",
      "12 110\n",
      "-12 10\n",
      "-11 0\n"
     ]
    }
   ],
   "source": [
    "from utils import HuffmanCode\n",
    "\n",
    "freq = [\n",
    "    ('-11',1/2),\n",
    "    ('-12',1/4),\n",
    "    ('11',1/4),\n",
    "    ('12',0),\n",
    "]\n",
    "\n",
    "Coder = HuffmanCode(freq)\n",
    "C = Coder.codebook\n",
    "C\n",
    "\n",
    "L=0 # Stredni delka\n",
    "for s, p in freq:\n",
    "    L += len(C[s]) * p\n",
    "\n",
    "print(f'{L=}')\n",
    "print('symbol, code')\n",
    "for k,v in C.items():\n",
    "    print(k,v)"
   ]
  }
 ],
 "metadata": {
  "interpreter": {
   "hash": "e9d3031ec5065bd21f4d2b0581ee1e8b1b9d1c9c4ac23e9ed2d5857bb28deada"
  },
  "kernelspec": {
   "display_name": "Python 3.9.6 ('venv': venv)",
   "language": "python",
   "name": "python3"
  },
  "language_info": {
   "codemirror_mode": {
    "name": "ipython",
    "version": 3
   },
   "file_extension": ".py",
   "mimetype": "text/x-python",
   "name": "python",
   "nbconvert_exporter": "python",
   "pygments_lexer": "ipython3",
   "version": "3.9.6"
  },
  "orig_nbformat": 4
 },
 "nbformat": 4,
 "nbformat_minor": 2
}
