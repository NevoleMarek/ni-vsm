{
 "cells": [
  {
   "cell_type": "code",
   "execution_count": 1,
   "metadata": {},
   "outputs": [],
   "source": [
    "import numpy as np"
   ]
  },
  {
   "cell_type": "markdown",
   "metadata": {},
   "source": [
    "# Markovské řetězce"
   ]
  },
  {
   "cell_type": "markdown",
   "metadata": {},
   "source": [
    "## Diskrétní"
   ]
  },
  {
   "cell_type": "markdown",
   "metadata": {},
   "source": [
    "https://courses.fit.cvut.cz/NI-VSM/lectures/files/NI-VSM-Lec-14-Slides.pdf"
   ]
  },
  {
   "cell_type": "markdown",
   "metadata": {},
   "source": [
    "### stacionární rozdělení\n",
    "\n",
    "https://courses.fit.cvut.cz/NI-VSM/lectures/files/NI-VSM-Lec-15-Slides.pdf\n",
    "\n",
    "<img src=\"./img/stacdiskr.png\"  width=\"600\"/>"
   ]
  },
  {
   "cell_type": "code",
   "execution_count": 40,
   "metadata": {},
   "outputs": [
    {
     "name": "stdout",
     "output_type": "stream",
     "text": [
      "[[0.375 0.5   0.125]\n",
      " [0.375 0.5   0.125]\n",
      " [0.375 0.5   0.125]]\n",
      "[3. 4. 1.]\n",
      "[[0.71428571 0.28571429]\n",
      " [0.71428571 0.28571429]]\n",
      "[2.5 1. ]\n"
     ]
    }
   ],
   "source": [
    "def stac(m, x=4096):\n",
    "    return np.linalg.matrix_power(m,x)\n",
    "\n",
    "p = np.array([\n",
    "    [1/3,1/3,1/3],\n",
    "    [1/2,1/2,0],\n",
    "    [0,1,0]\n",
    "])\n",
    "p = stac(p)\n",
    "print(p)\n",
    "print(p[1]/min(p[1]))\n",
    "\n",
    "pp = np.array([\n",
    "    [4/5,1/5],\n",
    "    [1/2,1/2]\n",
    "])\n",
    "pp = stac(pp, 32)\n",
    "print(pp)\n",
    "print(pp[1]/min(pp[1]))\n"
   ]
  },
  {
   "cell_type": "code",
   "execution_count": 42,
   "metadata": {},
   "outputs": [
    {
     "name": "stdout",
     "output_type": "stream",
     "text": [
      "N=array([[1.33333333, 0.66666667],\n",
      "       [0.66666667, 1.33333333]])\n",
      "U=array([[0.66666667, 0.33333333],\n",
      "       [0.33333333, 0.66666667]])\n"
     ]
    }
   ],
   "source": [
    "T = np.array([\n",
    "    [0, 1/2],\n",
    "    [1/2, 0]\n",
    "])\n",
    "R = np.array([\n",
    "    [1/2, 0],\n",
    "    [0, 1/2]\n",
    "])\n",
    "\n",
    "N = np.linalg.inv(np.eye(T.shape[0]) - T)\n",
    "U = N @ R\n",
    "\n",
    "print(f'{N=}')\n",
    "print(f'{U=}')"
   ]
  },
  {
   "cell_type": "markdown",
   "metadata": {},
   "source": [
    "## Spojité"
   ]
  },
  {
   "cell_type": "markdown",
   "metadata": {},
   "source": [
    "https://courses.fit.cvut.cz/NI-VSM/lectures/files/NI-VSM-Lec-18-Slides.pdf"
   ]
  },
  {
   "cell_type": "markdown",
   "metadata": {},
   "source": [
    "Q <--> D https://courses.fit.cvut.cz/NI-VSM/lectures/files/NI-VSM-Lec-19-Slides.pdf\n",
    "\n",
    "Stacionární rozdělení \n",
    "https://courses.fit.cvut.cz/NI-VSM/lectures/files/NI-VSM-Lec-20-Slides.pdf\n",
    "\n",
    "Exponenciální závody\n",
    "https://courses.fit.cvut.cz/NI-VSM/lectures/files/NI-VSM-Lec-21-Slides.pdf\n",
    "\n",
    "M Hromadné obsluhy \n",
    "https://courses.fit.cvut.cz/NI-VSM/lectures/files/NI-VSM-Lec-22-Slides.pdf\n",
    "\n",
    "<img src=\"./img/mm1stac.png\"  width=\"600\"/>\n"
   ]
  },
  {
   "cell_type": "code",
   "execution_count": 45,
   "metadata": {},
   "outputs": [
    {
     "name": "stdout",
     "output_type": "stream",
     "text": [
      "0 0.33333333333333337\n",
      "1 0.22222222222222224\n",
      "2 0.14814814814814817\n",
      "3 0.09876543209876541\n",
      "4 0.06584362139917695\n",
      "5 0.04389574759945129\n",
      "6 0.029263831732967528\n",
      "7 0.019509221155311684\n",
      "8 0.013006147436874454\n",
      "9 0.008670764957916305\n",
      "10 0.005780509971944203\n",
      "0.9884389800561116\n"
     ]
    }
   ],
   "source": [
    "n = 10\n",
    "lmbda = 4\n",
    "mu = 6\n",
    "ro = lmbda / mu\n",
    "pi = []\n",
    "for i in range(n+1):\n",
    "    pii = (1-ro) * ro**i\n",
    "    pi.append(pii)\n",
    "    print(i, pii)\n",
    "\n",
    "print(sum(pi))"
   ]
  }
 ],
 "metadata": {
  "interpreter": {
   "hash": "e9d3031ec5065bd21f4d2b0581ee1e8b1b9d1c9c4ac23e9ed2d5857bb28deada"
  },
  "kernelspec": {
   "display_name": "Python 3.9.6 ('venv': venv)",
   "language": "python",
   "name": "python3"
  },
  "language_info": {
   "codemirror_mode": {
    "name": "ipython",
    "version": 3
   },
   "file_extension": ".py",
   "mimetype": "text/x-python",
   "name": "python",
   "nbconvert_exporter": "python",
   "pygments_lexer": "ipython3",
   "version": "3.9.6"
  },
  "orig_nbformat": 4
 },
 "nbformat": 4,
 "nbformat_minor": 2
}
