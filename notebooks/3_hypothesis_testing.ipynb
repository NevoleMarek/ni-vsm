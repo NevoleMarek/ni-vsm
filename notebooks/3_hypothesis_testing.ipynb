{
 "cells": [
  {
   "cell_type": "markdown",
   "metadata": {},
   "source": [
    "# Testování hypotéz"
   ]
  },
  {
   "cell_type": "code",
   "execution_count": 1,
   "metadata": {},
   "outputs": [],
   "source": [
    "import scipy.stats as st\n",
    "import numpy as np"
   ]
  },
  {
   "cell_type": "markdown",
   "metadata": {},
   "source": [
    "https://courses.fit.cvut.cz/NI-VSM/lectures/files/NI-VSM-Lec-11-Slides.pdf"
   ]
  },
  {
   "cell_type": "markdown",
   "metadata": {},
   "source": [
    "### Jednovýběrový t-test\n",
    "\n",
    "<img src=\"./img/normttest.png\"  width=\"600\"/>"
   ]
  },
  {
   "cell_type": "code",
   "execution_count": 50,
   "metadata": {},
   "outputs": [],
   "source": [
    "mu_0 = 0.5\n",
    "alt = 'two-sided'\n",
    "alpha = 0.05"
   ]
  },
  {
   "cell_type": "code",
   "execution_count": 51,
   "metadata": {},
   "outputs": [],
   "source": [
    "n = 20\n",
    "bar_X = 0.2\n",
    "var_X = 0.168"
   ]
  },
  {
   "cell_type": "code",
   "execution_count": 6,
   "metadata": {},
   "outputs": [],
   "source": [
    "X = np.array([\n",
    "    5, 4\n",
    "])\n",
    "\n",
    "n = len(X)\n",
    "bar_X = np.mean(X)\n",
    "var_X = np.var(X, ddof=1)"
   ]
  },
  {
   "cell_type": "code",
   "execution_count": 52,
   "metadata": {},
   "outputs": [],
   "source": [
    "T = (bar_X - mu_0) / np.sqrt(var_X) * np.sqrt(n) #unknown var"
   ]
  },
  {
   "cell_type": "code",
   "execution_count": 57,
   "metadata": {},
   "outputs": [
    {
     "name": "stdout",
     "output_type": "stream",
     "text": [
      "bar_X=0.2 mu_0=0.5 np.sqrt(var_X)=0.40987803063838396 n=20\n",
      "T=-3.2732683535398857\n",
      "lcval=-2.0930240544082634 rcval=2.093024054408263\n",
      "(1-pval)*2=0.0039989125815405036\n"
     ]
    }
   ],
   "source": [
    "print(f'{bar_X=} {mu_0=} {np.sqrt(var_X)=} {n=}')\n",
    "print(f'{T=}')\n",
    "lcval = st.t.ppf(alpha/2,df=n-1)\n",
    "rcval = st.t.ppf(1-alpha/2,df=n-1)\n",
    "print(f'{lcval=} {rcval=}')\n",
    "pval = st.t.cdf(np.abs(T), df=n-1)\n",
    "print(f'{(1-pval)*2=}')"
   ]
  },
  {
   "cell_type": "code",
   "execution_count": null,
   "metadata": {},
   "outputs": [],
   "source": [
    "st.ttest_1samp(X, popmean=mu_0, alternative=alt) #unknown var"
   ]
  },
  {
   "cell_type": "markdown",
   "metadata": {},
   "source": [
    "### Párový t-test\n",
    "\n",
    "<img src=\"./img/pttest.png\"  width=\"600\"/>"
   ]
  },
  {
   "cell_type": "code",
   "execution_count": 64,
   "metadata": {},
   "outputs": [
    {
     "name": "stdout",
     "output_type": "stream",
     "text": [
      "bar_Z=6.0 mu=0 np.sqrt(var_Z)=5.522680508593631 n=5\n",
      "T=2.429328990536748\n",
      "2.13184678133629\n",
      "0.036016573856563094\n"
     ]
    }
   ],
   "source": [
    "X = np.array([\n",
    "    178, 188, 177, 192, 193\n",
    "])\n",
    "\n",
    "Y = np.array([\n",
    "    172, 176, 180, 184, 186\n",
    "])\n",
    "\n",
    "alt = 'greater'\n",
    "\n",
    "assert(len(X) == len(Y))\n",
    "\n",
    "n = len(X)\n",
    "\n",
    "Z = X - Y\n",
    "\n",
    "bar_Z = np.mean(Z)\n",
    "var_Z = np.var(Z, ddof=1)\n",
    "\n",
    "T = (bar_Z) / np.sqrt(var_Z) * np.sqrt(n) #unknown var\n",
    "\n",
    "print(f'{bar_Z=} mu={0} {np.sqrt(var_Z)=} {n=}')\n",
    "print(f'{T=}')\n",
    "print(st.t.ppf(1-alpha, df=n-1))\n",
    "print(1-st.t.cdf(T,df=n-1))\n"
   ]
  },
  {
   "cell_type": "code",
   "execution_count": 61,
   "metadata": {},
   "outputs": [
    {
     "data": {
      "text/plain": [
       "Ttest_1sampResult(statistic=2.429328990536748, pvalue=0.036016573856563025)"
      ]
     },
     "execution_count": 61,
     "metadata": {},
     "output_type": "execute_result"
    }
   ],
   "source": [
    "st.ttest_1samp(Z, popmean=0, alternative=alt)"
   ]
  },
  {
   "cell_type": "markdown",
   "metadata": {},
   "source": [
    "### Dvouvýběrový t-test\n",
    "\n",
    "<img src=\"./img/samevar.png\"  width=\"600\"/>\n",
    "\n",
    "<img src=\"./img/notsamevar.png\"  width=\"600\"/>"
   ]
  },
  {
   "cell_type": "code",
   "execution_count": 86,
   "metadata": {},
   "outputs": [],
   "source": [
    "X = np.array([\n",
    "    169, 178, 179, 186, 191\n",
    "])\n",
    "\n",
    "Y = np.array([\n",
    "    175, 182, 183, 189, 191, 192\n",
    "])\n",
    "\n",
    "alt = 'two-sided'\n",
    "alpha = 0.05"
   ]
  },
  {
   "cell_type": "code",
   "execution_count": 87,
   "metadata": {},
   "outputs": [],
   "source": [
    "n = len(X)\n",
    "m = len(Y)\n",
    "\n",
    "bar_X = np.mean(X)\n",
    "bar_Y = np.mean(Y)\n",
    "var_X = np.var(X, ddof=1)\n",
    "var_Y = np.var(Y, ddof=1)"
   ]
  },
  {
   "cell_type": "code",
   "execution_count": 93,
   "metadata": {},
   "outputs": [
    {
     "name": "stdout",
     "output_type": "stream",
     "text": [
      "bar_X=180.6 bar_Y=185.33333333333334 s12=7.4127018116303685 n=5 m=6\n",
      "T=-1.0545200563892545\n",
      "2.2621571627409915\n",
      "0.319130239321952\n"
     ]
    }
   ],
   "source": [
    "s12 = np.sqrt(((n-1)*var_X + (m-1)*var_Y) / (n+m-2.0) )\n",
    "\n",
    "T = (bar_X-bar_Y) / s12 * np.sqrt((n*m)/(n+m)) # equal var\n",
    "\n",
    "print(f'{bar_X=} {bar_Y=} {s12=} {n=} {m=}')\n",
    "print(f'{T=}')\n",
    "print(st.t.ppf(1-alpha/2,n+m-2)) # c val\n",
    "print(st.t.cdf(T,9)*2) # p val"
   ]
  },
  {
   "cell_type": "code",
   "execution_count": null,
   "metadata": {},
   "outputs": [],
   "source": [
    "sd = np.sqrt(var_X/n + var_Y/m)\n",
    "nd = sd**4 / ((1/(n-1))(var_X/n)**2 + (1/(m-1))(var_Y/m)**2)\n",
    "T = (bar_X-bar_Y) / sd # non-equal var\n",
    "\n",
    "print(f'{bar_X=} {bar_Y=} {sd=} {n=} {m=} {nd=}')\n",
    "print(f'{T=}')\n",
    "print(st.t.ppf(1-alpha/2,nd)) # crit val\n",
    "print(st.t.cdf(T,nd)*2) # p val"
   ]
  },
  {
   "cell_type": "code",
   "execution_count": 70,
   "metadata": {},
   "outputs": [
    {
     "data": {
      "text/plain": [
       "Ttest_indResult(statistic=-1.0545200563892545, pvalue=0.319130239321952)"
      ]
     },
     "execution_count": 70,
     "metadata": {},
     "output_type": "execute_result"
    }
   ],
   "source": [
    "st.ttest_ind(X, Y, equal_var = True, alternative = alt)"
   ]
  },
  {
   "cell_type": "markdown",
   "metadata": {},
   "source": [
    "### Testy dobré shody\n",
    "\n",
    "<img src=\"./img/chisqknownp.png\"  width=\"600\"/>"
   ]
  },
  {
   "cell_type": "code",
   "execution_count": 94,
   "metadata": {},
   "outputs": [],
   "source": [
    "obs = np.array([\n",
    "    638, 602\n",
    "])\n",
    "\n",
    "p = np.array([\n",
    "    1/2, 1/2\n",
    "])\n",
    "\n",
    "alpha = 0.05"
   ]
  },
  {
   "cell_type": "code",
   "execution_count": 28,
   "metadata": {},
   "outputs": [
    {
     "name": "stdout",
     "output_type": "stream",
     "text": [
      "[0.75   0.125  0.0625 0.0625]\n"
     ]
    }
   ],
   "source": [
    "p = []\n",
    "pk=1/2\n",
    "p.append(st.geom.cdf(2,pk))\n",
    "p.append(st.geom.pmf(3,pk))\n",
    "p.append(st.geom.pmf(4,pk))\n",
    "p.append(st.geom.sf(4,pk))\n",
    "p = np.array(p)\n",
    "print(p)"
   ]
  },
  {
   "cell_type": "code",
   "execution_count": 99,
   "metadata": {},
   "outputs": [
    {
     "name": "stdout",
     "output_type": "stream",
     "text": [
      "obs=array([638, 602])\n",
      "exp=array([620., 620.])\n",
      "n=1240\n",
      "chi=1.0451612903225806 pval=0.3066241230648308\n",
      "3.841458820694124\n",
      "0.30662412306483366\n"
     ]
    }
   ],
   "source": [
    "assert( np.isclose(sum(p),1))\n",
    "\n",
    "exp = sum(obs) * p\n",
    "n = sum(obs)\n",
    "k = len(obs)\n",
    "print(f'{obs=}')\n",
    "print(f'{exp=}')\n",
    "print(f'{n=}')\n",
    "\n",
    "chi, pval = st.chisquare(obs, exp)\n",
    "\n",
    "print(f'{chi=} {pval=}')\n",
    "print(st.chi2.ppf(1-alpha,df = k-1)) # c val\n",
    "print(1 - st.chi2.cdf(chi,df = k-1)) # p val"
   ]
  },
  {
   "cell_type": "markdown",
   "metadata": {},
   "source": [
    "### Test nezávislosti z kontingenční tabulky\n",
    "\n",
    "<img src=\"./img/contingency1.png\"  width=\"600\"/>\n",
    "\n",
    "<img src=\"./img/contingency2.png\"  width=\"600\"/>"
   ]
  },
  {
   "cell_type": "code",
   "execution_count": 2,
   "metadata": {},
   "outputs": [
    {
     "name": "stdout",
     "output_type": "stream",
     "text": [
      "chi=4.5 p=0.033894853524689295 dof=1\n",
      "2.705543454095404\n",
      "0.03389485352468924\n"
     ]
    }
   ],
   "source": [
    "c_table = np.array([\n",
    "    [15,85],\n",
    "    [5, 95]\n",
    "])\n",
    "\n",
    "alpha = 0.10\n",
    "\n",
    "r, c = c_table.shape\n",
    "\n",
    "chi, p, dof, exp = st.chi2_contingency(c_table)\n",
    "print(f'{chi=} {p=} {dof=}')\n",
    "print(st.chi2.ppf(1-alpha, df=(r-1)*(c-1))) # c val\n",
    "print(1-st.chi2.cdf(chi, df=(r-1)*(c-1))) # p val"
   ]
  }
 ],
 "metadata": {
  "interpreter": {
   "hash": "e9d3031ec5065bd21f4d2b0581ee1e8b1b9d1c9c4ac23e9ed2d5857bb28deada"
  },
  "kernelspec": {
   "display_name": "Python 3.9.6 ('venv': venv)",
   "language": "python",
   "name": "python3"
  },
  "language_info": {
   "codemirror_mode": {
    "name": "ipython",
    "version": 3
   },
   "file_extension": ".py",
   "mimetype": "text/x-python",
   "name": "python",
   "nbconvert_exporter": "python",
   "pygments_lexer": "ipython3",
   "version": "3.9.6"
  },
  "orig_nbformat": 4
 },
 "nbformat": 4,
 "nbformat_minor": 2
}
