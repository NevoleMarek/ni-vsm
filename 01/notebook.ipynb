{
 "cells": [
  {
   "cell_type": "code",
   "execution_count": 1,
   "metadata": {},
   "outputs": [],
   "source": [
    "import matplotlib.pyplot as plt\n",
    "from utils import load_analysis_ready_text\n",
    "\n",
    "%matplotlib inline\n",
    "\n",
    "FILE1 = '../data/005.txt'\n",
    "FILE2 = '../data/017.txt'"
   ]
  },
  {
   "cell_type": "code",
   "execution_count": 2,
   "metadata": {},
   "outputs": [],
   "source": [
    "txt1 = load_analysis_ready_text(FILE1)\n",
    "txt2 = load_analysis_ready_text(FILE2)"
   ]
  },
  {
   "cell_type": "code",
   "execution_count": 3,
   "metadata": {},
   "outputs": [
    {
     "name": "stdout",
     "output_type": "stream",
     "text": [
      "5410 6709\n"
     ]
    }
   ],
   "source": [
    "print(len(txt1), len(txt2))"
   ]
  },
  {
   "cell_type": "code",
   "execution_count": 4,
   "metadata": {},
   "outputs": [
    {
     "data": {
      "image/png": "[encoded data removed]",
      "text/plain": [
       "<Figure size 432x288 with 1 Axes>"
      ]
     },
     "metadata": {
      "needs_background": "light"
     },
     "output_type": "display_data"
    }
   ],
   "source": [
    "from collections import Counter\n",
    "c1 = Counter(txt1)\n",
    "c2 = Counter(txt2)\n",
    "\n",
    "d1 = sorted(dict(c1).items())\n",
    "d2 = sorted(dict(c2).items())\n",
    "\n",
    "x1, y1 = zip(*d1)\n",
    "x2, y2 = zip(*d2)\n",
    "\n",
    "plt.bar(x1, y1,label = 'Text 1')\n",
    "plt.bar(x2, y2,alpha = 0.3,label = 'Text 2')\n",
    "plt.legend()\n",
    "plt.xlabel('Znak')\n",
    "plt.ylabel('Absolutní četnost znaků')\n",
    "plt.tight_layout()\n",
    "plt.savefig('img/aprob1.png', dpi=300)\n"
   ]
  },
  {
   "cell_type": "code",
   "execution_count": 5,
   "metadata": {},
   "outputs": [
    {
     "data": {
      "image/png": "[encoded data removed]",
      "text/plain": [
       "<Figure size 432x288 with 1 Axes>"
      ]
     },
     "metadata": {
      "needs_background": "light"
     },
     "output_type": "display_data"
    }
   ],
   "source": [
    "p1 = [val/len(txt1) for val in y1]\n",
    "p2 = [val/len(txt2) for val in y2]\n",
    "\n",
    "plt.bar(x1, p1,label = 'Text 1')\n",
    "plt.bar(x2, p2,alpha = 0.3,label = 'Text 2')\n",
    "plt.legend()\n",
    "plt.xlabel('Znak')\n",
    "plt.ylabel('Relativní četnost znaků')\n",
    "plt.tight_layout()\n",
    "plt.savefig('img/rprob1.png', dpi=300)"
   ]
  },
  {
   "cell_type": "code",
   "execution_count": 6,
   "metadata": {},
   "outputs": [
    {
     "name": "stdout",
     "output_type": "stream",
     "text": [
      "4.0630294692832365 4.0777240009434665\n"
     ]
    }
   ],
   "source": [
    "from scipy.stats import entropy\n",
    "\n",
    "e1 = entropy(p1, base = 2)\n",
    "e2 = entropy(p2, base = 2)\n",
    "\n",
    "print(e1, e2)"
   ]
  },
  {
   "cell_type": "code",
   "execution_count": 7,
   "metadata": {},
   "outputs": [
    {
     "data": {
      "text/plain": [
       "dict_items([('m', 151), ('y', 101), (' ', 1079), ('f', 91), ('a', 378), ('t', 383), ('h', 275), ('e', 542), ('r', 273), ('s', 249), ('i', 314), ('l', 177), ('n', 270), ('b', 64), ('g', 97), ('p', 76), ('d', 218), ('c', 82), ('o', 298), ('u', 98), ('k', 44), ('x', 6), ('v', 44), ('j', 3), ('w', 90), ('q', 4), ('z', 3)])"
      ]
     },
     "execution_count": 7,
     "metadata": {},
     "output_type": "execute_result"
    }
   ],
   "source": [
    "c1.items()\n"
   ]
  },
  {
   "cell_type": "code",
   "execution_count": 14,
   "metadata": {},
   "outputs": [],
   "source": [
    "from utils import HuffmanCode\n",
    "Coder1 = HuffmanCode(c1.items())\n",
    "Coder2 = HuffmanCode(c2.items())\n",
    "C1 = Coder1.codebook\n",
    "C2 = Coder2.codebook"
   ]
  },
  {
   "cell_type": "code",
   "execution_count": 35,
   "metadata": {},
   "outputs": [
    {
     "name": "stdout",
     "output_type": "stream",
     "text": [
      "4.107024029574863\n",
      "4.135638694291251\n",
      "4.121329557311075\n"
     ]
    }
   ],
   "source": [
    "l1 = {s:len(c) for s,c in C1.items()}\n",
    "L1 = sum([l[1] * p for l, p in zip(sorted(l1.items()),p1)])\n",
    "print(L1)\n",
    "L12 = sum([l[1] * p for l, p in zip(sorted(l1.items()),p2)])\n",
    "print(L12)\n",
    "\n",
    "l2 = {s:len(c) for s,c in C2.items()}\n",
    "L2 = sum([l[1] * p for l, p in zip(sorted(l2.items()),p2)])\n",
    "print(L2)"
   ]
  }
 ],
 "metadata": {
  "interpreter": {
   "hash": "e9d3031ec5065bd21f4d2b0581ee1e8b1b9d1c9c4ac23e9ed2d5857bb28deada"
  },
  "kernelspec": {
   "display_name": "Python 3.9.6 ('venv': venv)",
   "language": "python",
   "name": "python3"
  },
  "language_info": {
   "codemirror_mode": {
    "name": "ipython",
    "version": 3
   },
   "file_extension": ".py",
   "mimetype": "text/x-python",
   "name": "python",
   "nbconvert_exporter": "python",
   "pygments_lexer": "ipython3",
   "version": "3.9.6"
  },
  "orig_nbformat": 4
 },
 "nbformat": 4,
 "nbformat_minor": 2
}
