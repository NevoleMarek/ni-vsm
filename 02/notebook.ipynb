{
 "cells": [
  {
   "cell_type": "code",
   "execution_count": 63,
   "metadata": {},
   "outputs": [],
   "source": [
    "import matplotlib.pyplot as plt\n",
    "from utils import load_analysis_ready_text\n",
    "import numpy as np\n",
    "\n",
    "%matplotlib inline\n",
    "\n",
    "FILE1 = '../data/005.txt'\n",
    "FILE2 = '../data/017.txt'"
   ]
  },
  {
   "cell_type": "code",
   "execution_count": 64,
   "metadata": {},
   "outputs": [],
   "source": [
    "txt1 = load_analysis_ready_text(FILE1)\n",
    "txt2 = load_analysis_ready_text(FILE2)"
   ]
  },
  {
   "cell_type": "code",
   "execution_count": 65,
   "metadata": {},
   "outputs": [
    {
     "name": "stdout",
     "output_type": "stream",
     "text": [
      "5410 6709\n"
     ]
    }
   ],
   "source": [
    "print(len(txt1), len(txt2))"
   ]
  },
  {
   "cell_type": "code",
   "execution_count": 66,
   "metadata": {},
   "outputs": [
    {
     "name": "stdout",
     "output_type": "stream",
     "text": [
      "Smpl mean: 4.010185185185185, smpl var: 4.451240002746027\n",
      "Smpl mean: 4.283464566929134, smpl var: 5.0732488226205765\n"
     ]
    }
   ],
   "source": [
    "l1 = [len(word) for word in txt1.split()]\n",
    "sample_mean_1 = np.mean(l1)\n",
    "sample_var_1 = np.var(l1, ddof = 1)\n",
    "print(f'Smpl mean: {sample_mean_1}, smpl var: {sample_var_1}')\n",
    "\n",
    "l2 = [len(word) for word in txt2.split()]\n",
    "sample_mean_2 = np.mean(l2)\n",
    "sample_var_2 = np.var(l2, ddof = 1)\n",
    "print(f'Smpl mean: {sample_mean_2}, smpl var: {sample_var_2}')"
   ]
  },
  {
   "cell_type": "code",
   "execution_count": 67,
   "metadata": {},
   "outputs": [
    {
     "data": {
      "image/png": "[encoded data removed]",
      "text/plain": [
       "<Figure size 432x288 with 1 Axes>"
      ]
     },
     "metadata": {
      "needs_background": "light"
     },
     "output_type": "display_data"
    }
   ],
   "source": [
    "from collections import Counter\n",
    "\n",
    "c1 = Counter(l1)\n",
    "c2 = Counter(l2)\n",
    "\n",
    "lens1, cnts1 = zip(*c1.items())\n",
    "lens2, cnts2 = zip(*c2.items())\n",
    "\n",
    "fig, ax1 = plt.subplots()\n",
    "\n",
    "ax1.bar(lens1, cnts1, label='Text 1')\n",
    "ax1.bar(lens2, cnts2, alpha = 0.5, label='Text 2')\n",
    "ax1.legend()\n",
    "ax1.set_xticks(lens2)\n",
    "ax1.set_ylabel('Četnost', size=18)\n",
    "ax1.set_xlabel('Délka slova', size=18)\n",
    "ax1.set_xlim(0.5,13.5)\n",
    "fig.savefig('img/wdistr.png',dpi=300)"
   ]
  },
  {
   "cell_type": "code",
   "execution_count": 68,
   "metadata": {},
   "outputs": [
    {
     "name": "stdout",
     "output_type": "stream",
     "text": [
      "1080\n",
      "1270\n"
     ]
    }
   ],
   "source": [
    "print(sum(cnts1))\n",
    "print(sum(cnts2))"
   ]
  },
  {
   "cell_type": "code",
   "execution_count": 69,
   "metadata": {},
   "outputs": [
    {
     "data": {
      "image/png": "[encoded data removed]",
      "text/plain": [
       "<Figure size 432x288 with 1 Axes>"
      ]
     },
     "metadata": {
      "needs_background": "light"
     },
     "output_type": "display_data"
    }
   ],
   "source": [
    "cc1 = Counter(txt1)\n",
    "cc2 = Counter(txt2)\n",
    "\n",
    "del cc1[' ']\n",
    "del cc2[' ']\n",
    "\n",
    "cc1 = sorted(cc1.items())\n",
    "cc2 = sorted(cc2.items())\n",
    "\n",
    "char1, cnts1 = zip(*cc1)\n",
    "char2, cnts2 = zip(*cc2)\n",
    "\n",
    "ttl1 = sum(cnts1)\n",
    "ttl2 = sum(cnts2)\n",
    "\n",
    "cnts1 = [cnt/ttl1 for cnt in cnts1]\n",
    "cnts2 = [cnt/ttl2 for cnt in cnts2]\n",
    "\n",
    "fig, ax1 = plt.subplots()\n",
    "\n",
    "ax1.bar(char1, cnts1, label='Text 1')\n",
    "ax1.bar(char2, cnts2, alpha = 0.5, label='Text 2')\n",
    "ax1.legend()\n",
    "ax1.set_xticks(char1)\n",
    "ax1.set_ylabel('Relativní četnost', size=18)\n",
    "ax1.set_xlabel('Symboly', size=18)\n",
    "fig.savefig('img/chdistr.png',dpi=300)"
   ]
  },
  {
   "cell_type": "code",
   "execution_count": 70,
   "metadata": {},
   "outputs": [
    {
     "name": "stdout",
     "output_type": "stream",
     "text": [
      "[[ 51.47234043 208.18723404 246.33191489 198.53617021 113.05531915\n",
      "  110.75744681  60.66382979  32.17021277  29.41276596  16.54468085\n",
      "   12.86808511]\n",
      " [ 60.52765957 244.81276596 289.66808511 233.46382979 132.94468085\n",
      "  130.24255319  71.33617021  37.82978723  34.58723404  19.45531915\n",
      "   15.13191489]]\n",
      "[[ 68 202 251 216 106 113  51  20  26  16  11]\n",
      " [ 44 251 285 216 140 128  81  50  38  20  17]]\n",
      "26.700913595344133\n",
      "0.0029035185289408576\n",
      "10\n",
      "18.307038053275146\n"
     ]
    },
    {
     "data": {
      "text/plain": [
       "26.700913595344108"
      ]
     },
     "execution_count": 70,
     "metadata": {},
     "output_type": "execute_result"
    }
   ],
   "source": [
    "from scipy.stats.contingency import chi2_contingency, margins, expected_freq\n",
    "from scipy.stats import chi2\n",
    "\n",
    "alpha = .05\n",
    "\n",
    "_, cnts1 = zip(*sorted(c1.items()))\n",
    "_, cnts2 = zip(*sorted(c2.items()))\n",
    "\n",
    "cnts1 = list(cnts1)\n",
    "cnts2 = list(cnts2)\n",
    "\n",
    "cnts1[-2] += cnts1[-1]\n",
    "cnts1.pop()\n",
    "cnts2[-2] += cnts2[-1]\n",
    "cnts2[-3] += cnts2[-2]\n",
    "cnts2.pop()\n",
    "cnts2.pop()\n",
    "\n",
    "cntg_table = np.stack((cnts1,cnts2))\n",
    "print(expected_freq(cntg_table))\n",
    "\n",
    "chi2stat, p, dof, expected = chi2_contingency(cntg_table)\n",
    "#print(margins(cntg_table))\n",
    "print(cntg_table)\n",
    "print(chi2stat)\n",
    "print(p)\n",
    "print(dof)\n",
    "#print(expected)\n",
    "print(chi2.ppf(1-alpha, df=dof))\n",
    "chi2.ppf(1-p, df=dof)\n"
   ]
  },
  {
   "cell_type": "code",
   "execution_count": 71,
   "metadata": {},
   "outputs": [
    {
     "name": "stdout",
     "output_type": "stream",
     "text": [
      "4.838281244085883\n",
      "0.02793176202378154\n",
      "-3.0334051923310863\n",
      "0.0024448389907806727\n",
      "3.0334051923310863\n"
     ]
    }
   ],
   "source": [
    "from scipy.stats import levene, ttest_ind, t\n",
    "\n",
    "s, p = levene(l1, l2)\n",
    "print(s)\n",
    "print(p)\n",
    "\n",
    "T, ptt = ttest_ind(l1, l2, equal_var=False)\n",
    "print(T)\n",
    "print(ptt)\n",
    "print(abs(T))\n",
    "\n",
    "\n"
   ]
  },
  {
   "cell_type": "code",
   "execution_count": 72,
   "metadata": {},
   "outputs": [
    {
     "name": "stdout",
     "output_type": "stream",
     "text": [
      "60.431126408841045\n",
      "1.929159255713764e-05\n",
      "22\n",
      "33.92443847144381\n"
     ]
    }
   ],
   "source": [
    "_, cnts1 = zip(*sorted(cc1))\n",
    "_, cnts2 = zip(*sorted(cc2))\n",
    "cnts1 = list(cnts1)\n",
    "cnts2 = list(cnts2)\n",
    "\n",
    "cnts1[9] += cnts1[16] + cnts1[23] + cnts1[25]\n",
    "cnts2[9] += cnts2[16] + cnts2[23] + cnts2[25]\n",
    "cnts1.pop(25)\n",
    "cnts1.pop(23)\n",
    "cnts1.pop(16)\n",
    "cnts2.pop(25)\n",
    "cnts2.pop(23)\n",
    "cnts2.pop(16)\n",
    "\n",
    "cnts1 = np.array(cnts1)\n",
    "cnts2 = np.array(cnts2)\n",
    "\n",
    "cntg_table = np.stack((cnts1,cnts2))\n",
    "chi2stat, p, dof, expected = chi2_contingency(cntg_table)\n",
    "#print(margins(cntg_table))\n",
    "#print(cntg_table)\n",
    "print(chi2stat)\n",
    "print(p)\n",
    "print(dof)\n",
    "#print(expected)\n",
    "\n",
    "print(chi2.ppf(1-alpha, df=dof))"
   ]
  }
 ],
 "metadata": {
  "interpreter": {
   "hash": "e9d3031ec5065bd21f4d2b0581ee1e8b1b9d1c9c4ac23e9ed2d5857bb28deada"
  },
  "kernelspec": {
   "display_name": "Python 3.9.6 ('venv': venv)",
   "language": "python",
   "name": "python3"
  },
  "language_info": {
   "codemirror_mode": {
    "name": "ipython",
    "version": 3
   },
   "file_extension": ".py",
   "mimetype": "text/x-python",
   "name": "python",
   "nbconvert_exporter": "python",
   "pygments_lexer": "ipython3",
   "version": "3.9.6"
  },
  "orig_nbformat": 4
 },
 "nbformat": 4,
 "nbformat_minor": 2
}
